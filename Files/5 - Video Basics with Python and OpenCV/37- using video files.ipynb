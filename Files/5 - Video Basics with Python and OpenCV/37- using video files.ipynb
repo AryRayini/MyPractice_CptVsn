{
 "cells": [
  {
   "cell_type": "code",
   "execution_count": 4,
   "id": "601be845-8867-4a81-b216-0819c0587bf2",
   "metadata": {},
   "outputs": [],
   "source": [
    "import cv2 \n",
    "import time \n",
    "\n",
    "cap = cv2.VideoCapture('myvid.mp4')\n",
    "\n",
    "if cap.isOpened() == False:\n",
    "    print('ERROR FILE NOT FOUND OR WRONG CODEC USED!')\n",
    "\n",
    "while cap.isOpened():\n",
    "    ret , frame = cap.read()\n",
    "\n",
    "    if ret == True:\n",
    "        # WRITTER 24 FPS\n",
    "        time.sleep(1/24)\n",
    "        cv2.imshow('frame',frame)\n",
    "\n",
    "        if cv2.waitKey(10) & 0xFF == ord('q'):\n",
    "            break\n",
    "\n",
    "    else:\n",
    "        break\n",
    "\n",
    "cap.release()\n",
    "cv2.destroyAllWindows()"
   ]
  },
  {
   "cell_type": "code",
   "execution_count": null,
   "id": "bd8d7281-2ed7-498f-a468-6cbc7e940cc1",
   "metadata": {},
   "outputs": [],
   "source": []
  }
 ],
 "metadata": {
  "kernelspec": {
   "display_name": "Python 3 (ipykernel)",
   "language": "python",
   "name": "python3"
  },
  "language_info": {
   "codemirror_mode": {
    "name": "ipython",
    "version": 3
   },
   "file_extension": ".py",
   "mimetype": "text/x-python",
   "name": "python",
   "nbconvert_exporter": "python",
   "pygments_lexer": "ipython3",
   "version": "3.10.8"
  }
 },
 "nbformat": 4,
 "nbformat_minor": 5
}
