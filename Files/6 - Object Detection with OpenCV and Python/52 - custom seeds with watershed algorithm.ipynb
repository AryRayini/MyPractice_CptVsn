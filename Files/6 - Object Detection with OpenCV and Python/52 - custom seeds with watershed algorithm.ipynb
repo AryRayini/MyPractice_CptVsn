{
 "cells": [
  {
   "cell_type": "code",
   "execution_count": 1,
   "id": "d47a0268-769d-4785-b446-c41a0080dd6b",
   "metadata": {},
   "outputs": [],
   "source": [
    "import cv2\n",
    "import numpy as np\n",
    "import matplotlib.pyplot as plt"
   ]
  },
  {
   "cell_type": "code",
   "execution_count": 2,
   "id": "94093fa6-67b8-4ab1-bcfb-0b4a07c0b447",
   "metadata": {},
   "outputs": [],
   "source": [
    "road = cv2.imread('DATA/road_image.jpg')"
   ]
  },
  {
   "cell_type": "code",
   "execution_count": 3,
   "id": "572231b7-1f20-4798-abe9-adefa933b621",
   "metadata": {},
   "outputs": [],
   "source": [
    "road_copy = np.copy(road)"
   ]
  },
  {
   "cell_type": "code",
   "execution_count": 4,
   "id": "a63c2307-8682-423b-8e3c-c8798139b3fc",
   "metadata": {},
   "outputs": [],
   "source": [
    "# plt.imshow(road)"
   ]
  },
  {
   "cell_type": "code",
   "execution_count": 5,
   "id": "40eff9c1-9c64-4284-b5f6-85aba845881a",
   "metadata": {},
   "outputs": [
    {
     "data": {
      "text/plain": [
       "(600, 800, 3)"
      ]
     },
     "execution_count": 5,
     "metadata": {},
     "output_type": "execute_result"
    }
   ],
   "source": [
    "road.shape"
   ]
  },
  {
   "cell_type": "code",
   "execution_count": 6,
   "id": "b6d43196-1b6f-40c2-be7a-9c5c63d70925",
   "metadata": {},
   "outputs": [],
   "source": [
    "marker_image = np.zeros(road.shape[:2], dtype = np.int32)"
   ]
  },
  {
   "cell_type": "code",
   "execution_count": 7,
   "id": "d9f68157-b1ae-43e6-b158-36e517f45f8a",
   "metadata": {},
   "outputs": [],
   "source": [
    "segments = np.zeros(road.shape , dtype = np.int8)"
   ]
  },
  {
   "cell_type": "code",
   "execution_count": 8,
   "id": "7f2b338a-7e69-4df9-8d95-27c44c9699c3",
   "metadata": {},
   "outputs": [
    {
     "data": {
      "text/plain": [
       "(600, 800)"
      ]
     },
     "execution_count": 8,
     "metadata": {},
     "output_type": "execute_result"
    }
   ],
   "source": [
    "marker_image.shape"
   ]
  },
  {
   "cell_type": "code",
   "execution_count": 9,
   "id": "57d34a9e-a8fa-46ed-8bfb-6c4c6ec700f4",
   "metadata": {},
   "outputs": [
    {
     "data": {
      "text/plain": [
       "(600, 800, 3)"
      ]
     },
     "execution_count": 9,
     "metadata": {},
     "output_type": "execute_result"
    }
   ],
   "source": [
    "segments.shape"
   ]
  },
  {
   "cell_type": "code",
   "execution_count": 10,
   "id": "6f2b2342-3dce-47d8-a383-9cfd12ce6f3a",
   "metadata": {},
   "outputs": [],
   "source": [
    "from matplotlib import cm"
   ]
  },
  {
   "cell_type": "code",
   "execution_count": 11,
   "id": "94d430fc-1b81-495d-b318-2cb39c191b52",
   "metadata": {},
   "outputs": [
    {
     "data": {
      "text/plain": [
       "(0.12156862745098039, 0.4666666666666667, 0.7058823529411765, 1.0)"
      ]
     },
     "execution_count": 11,
     "metadata": {},
     "output_type": "execute_result"
    }
   ],
   "source": [
    "cm.tab10(0)"
   ]
  },
  {
   "cell_type": "code",
   "execution_count": 12,
   "id": "fc878202-b93e-430d-a1b0-f1583a2eb7a4",
   "metadata": {},
   "outputs": [],
   "source": [
    "def create_rgb(i):\n",
    "    return tuple(np.array(cm.tab10(i)[:3])*255)"
   ]
  },
  {
   "cell_type": "code",
   "execution_count": 13,
   "id": "0efd1f2d-a217-459b-a5b9-db1e7e2bb6cd",
   "metadata": {},
   "outputs": [],
   "source": [
    "colors = []\n",
    "for i in range(10):\n",
    "    colors.append(create_rgb(i))"
   ]
  },
  {
   "cell_type": "code",
   "execution_count": 14,
   "id": "cc941f12-9da4-4efb-ade5-57c40afccab4",
   "metadata": {},
   "outputs": [
    {
     "data": {
      "text/plain": [
       "[(31.0, 119.0, 180.0),\n",
       " (255.0, 127.0, 14.0),\n",
       " (44.0, 160.0, 44.0),\n",
       " (214.0, 39.0, 40.0),\n",
       " (148.0, 103.0, 189.0),\n",
       " (140.0, 86.0, 75.0),\n",
       " (227.0, 119.0, 194.0),\n",
       " (127.0, 127.0, 127.0),\n",
       " (188.0, 189.0, 34.0),\n",
       " (23.0, 190.0, 207.0)]"
      ]
     },
     "execution_count": 14,
     "metadata": {},
     "output_type": "execute_result"
    }
   ],
   "source": [
    "colors"
   ]
  },
  {
   "cell_type": "code",
   "execution_count": 18,
   "id": "c86086f5-8e8a-4431-825c-e4e9f95d98e7",
   "metadata": {},
   "outputs": [],
   "source": [
    "### \n",
    "# global variable\n",
    "# color choice \n",
    "n_markers = 10 # 0-9\n",
    "current_marker = 1\n",
    "# markers updated by watershed\n",
    "marks_updated = False"
   ]
  },
  {
   "cell_type": "code",
   "execution_count": 16,
   "id": "ace2e862-74f5-43a5-9fa5-fffa9ccc356b",
   "metadata": {},
   "outputs": [],
   "source": [
    "# callback function\n",
    "\n",
    "def mouse_callback(event,x,y,flags,param):\n",
    "    global marks_updated\n",
    "    if event == cv2.EVENT_LBUTTONDOWN:\n",
    "        # MARKERS PASSED TO THE WATERSHED ALGO\n",
    "        cv2.circle(marker_image,(x,y),10,(current_marker),-1)\n",
    "\n",
    "        # user sees on the road image\n",
    "        cv2.circle(road_copy,(x,y),10,colors[current_marker],-1)\n",
    "\n",
    "        marks_updated = True"
   ]
  },
  {
   "cell_type": "code",
   "execution_count": 30,
   "id": "312c955f-9a35-413b-9b50-f5441cc44957",
   "metadata": {},
   "outputs": [],
   "source": [
    "# while true\n",
    "cv2.namedWindow('Road Image')\n",
    "cv2.setMouseCallback('Road Image',mouse_callback)\n",
    "\n",
    "while True:\n",
    "    cv2.imshow('Watershed Segments',segments)\n",
    "    cv2.imshow('Road Image',road_copy)\n",
    "\n",
    "    # close all windows \n",
    "    k = cv2.waitKey(1)\n",
    "    if k == 27:\n",
    "        break\n",
    "\n",
    "    # Clear all the colors press c key\n",
    "    elif k == ord('c'):\n",
    "        road_copy = road.copy()\n",
    "        marker_image = np.zeros(road.shape[:2],dtype = np.int32)\n",
    "        segments = np.zeros(road.shape,dtype = np.uint8)\n",
    "\n",
    "        \n",
    "    # updae color choice\n",
    "    elif k > 0 and chr(k).isdigit():\n",
    "        current_marker = int(chr(k))\n",
    "\n",
    "    # update the markings\n",
    "    if marks_updated:\n",
    "        marker_image_copy = marker_image.copy()\n",
    "        cv2.watershed(road,marker_image_copy)\n",
    "        segments = np.zeros(road.shape,dtype = np.uint8)\n",
    "\n",
    "        for color_ind in range(n_markers):\n",
    "            # coloring segments , numpy call\n",
    "            segments[marker_image_copy == (color_ind)] = colors[color_ind]\n",
    "cv2.destroyAllWindows()"
   ]
  },
  {
   "cell_type": "code",
   "execution_count": null,
   "id": "939d5f7d-1d73-4e36-a2f3-f54fbdbaff3e",
   "metadata": {},
   "outputs": [],
   "source": []
  },
  {
   "cell_type": "code",
   "execution_count": null,
   "id": "795f4b94-b759-47a7-bf3e-e2a91796e7a3",
   "metadata": {},
   "outputs": [],
   "source": []
  }
 ],
 "metadata": {
  "kernelspec": {
   "display_name": "Python 3 (ipykernel)",
   "language": "python",
   "name": "python3"
  },
  "language_info": {
   "codemirror_mode": {
    "name": "ipython",
    "version": 3
   },
   "file_extension": ".py",
   "mimetype": "text/x-python",
   "name": "python",
   "nbconvert_exporter": "python",
   "pygments_lexer": "ipython3",
   "version": "3.10.8"
  }
 },
 "nbformat": 4,
 "nbformat_minor": 5
}
